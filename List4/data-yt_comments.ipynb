{
 "metadata": {
  "language_info": {
   "codemirror_mode": {
    "name": "ipython",
    "version": 3
   },
   "file_extension": ".py",
   "mimetype": "text/x-python",
   "name": "python",
   "nbconvert_exporter": "python",
   "pygments_lexer": "ipython3",
   "version": "3.6.7-final"
  },
  "orig_nbformat": 2,
  "kernelspec": {
   "name": "python36764bit40455a7f67b2417d8fc3daf7352f4c1a",
   "display_name": "Python 3.6.7 64-bit",
   "language": "python"
  }
 },
 "nbformat": 4,
 "nbformat_minor": 2,
 "cells": [
  {
   "source": [
    "# Downloading comments about the video\n",
    "## Analysis of Unstructured Data\n",
    "### Anna Szymanek 230042"
   ],
   "cell_type": "markdown",
   "metadata": {}
  },
  {
   "cell_type": "code",
   "execution_count": 1,
   "metadata": {},
   "outputs": [],
   "source": [
    "from googleapiclient.discovery import build\n",
    "import pandas as pd"
   ]
  },
  {
   "cell_type": "code",
   "execution_count": 2,
   "metadata": {},
   "outputs": [],
   "source": [
    "video_title = 'Why Pakistan Can Become the #1 Travel Destination in the World'\n",
    "csv_file_name = 'eva_comment.csv'"
   ]
  },
  {
   "cell_type": "code",
   "execution_count": 3,
   "metadata": {},
   "outputs": [],
   "source": [
    "youTubeApiKey = 'myApiKey'\n",
    "youtube = build('youtube', 'v3', developerKey = youTubeApiKey)"
   ]
  },
  {
   "cell_type": "code",
   "execution_count": 4,
   "metadata": {},
   "outputs": [
    {
     "output_type": "execute_result",
     "data": {
      "text/plain": [
       "<googleapiclient.discovery.Resource at 0x22390187160>"
      ]
     },
     "metadata": {},
     "execution_count": 4
    }
   ],
   "source": [
    "youtube.search()"
   ]
  },
  {
   "source": [
    "query_results = youtube.search().list(part = 'snippet', q = video_title, order = 'relevance', type = 'video', regionCode = 'pl' , relevanceLanguage = 'en', safeSearch = 'moderate').execute()"
   ],
   "cell_type": "code",
   "metadata": {},
   "execution_count": 5,
   "outputs": []
  },
  {
   "cell_type": "code",
   "execution_count": 6,
   "metadata": {},
   "outputs": [],
   "source": [
    "video_id = []\n",
    "channel = []\n",
    "video_title = []\n",
    "video_desc = []\n",
    "for item in query_results['items']:\n",
    "    video_id.append(item['id']['videoId'])\n",
    "    channel.append(item['snippet']['channelTitle'])\n",
    "    video_title.append(item['snippet']['title'])\n",
    "    video_desc.append(item['snippet']['description'])"
   ]
  },
  {
   "source": [
    "I only want first video."
   ],
   "cell_type": "markdown",
   "metadata": {}
  },
  {
   "cell_type": "code",
   "execution_count": 7,
   "metadata": {},
   "outputs": [],
   "source": [
    "video_id = video_id[0]\n",
    "channel = channel[0]\n",
    "video_title = video_title[0]\n",
    "video_desc = video_desc[0]"
   ]
  },
  {
   "cell_type": "code",
   "execution_count": 8,
   "metadata": {},
   "outputs": [],
   "source": [
    "video_id_pop = []\n",
    "channel_pop = []\n",
    "video_title_pop = []\n",
    "video_desc_pop = []\n",
    "comments_pop = []\n",
    "comment_id_pop = []\n",
    "reply_count_pop = []\n",
    "like_count_pop = []\n",
    "\n",
    "comments_temp = []\n",
    "comment_id_temp = []\n",
    "reply_count_temp = []\n",
    "like_count_temp = []"
   ]
  },
  {
   "cell_type": "code",
   "execution_count": 9,
   "metadata": {},
   "outputs": [],
   "source": [
    "nextPage_token = None\n",
    "\n",
    "while 1:\n",
    "    response = youtube.commentThreads().list(part = 'snippet', videoId = video_id, maxResults = 100, order = 'relevance', textFormat = 'plainText', pageToken = nextPage_token).execute()\n",
    "    nextPage_token = response.get('nextPageToken')\n",
    "    for item in response['items']:\n",
    "        comments_temp.append(item['snippet']['topLevelComment']['snippet']['textDisplay'])\n",
    "        comment_id_temp.append(item['snippet']['topLevelComment']['id'])\n",
    "        reply_count_temp.append(item['snippet']['totalReplyCount'])\n",
    "        like_count_temp.append(item['snippet']['topLevelComment']['snippet']['likeCount'])\n",
    "        comments_pop.extend(comments_temp)\n",
    "        comment_id_pop.extend(comment_id_temp)\n",
    "        reply_count_pop.extend(reply_count_temp)\n",
    "        like_count_pop.extend(like_count_temp)\n",
    "\n",
    "        video_id_pop.extend([video_id]*len(comments_temp))\n",
    "        channel_pop.extend([channel]*len(comments_temp))\n",
    "        video_title_pop.extend([video_title]*len(comments_temp))\n",
    "        video_desc_pop.extend([video_desc]*len(comments_temp))\n",
    "        \n",
    " \n",
    "    if nextPage_token is None:\n",
    "        break"
   ]
  },
  {
   "cell_type": "code",
   "execution_count": 10,
   "metadata": {},
   "outputs": [],
   "source": [
    "output_dict = {\n",
    "    'Channel': channel_pop,\n",
    "    'Video Title': video_title_pop,\n",
    "    'Video Description': video_desc_pop,\n",
    "    'Video ID': video_id_pop,\n",
    "    'Comment': comments_pop,\n",
    "    'Comment iD': comment_id_pop,\n",
    "    'Replies': reply_count_pop,\n",
    "    'Likes': like_count_pop\n",
    "}\n",
    "output_df = pd.DataFrame(output_dict, columns = output_dict.keys())"
   ]
  },
  {
   "cell_type": "code",
   "execution_count": 11,
   "metadata": {},
   "outputs": [
    {
     "output_type": "execute_result",
     "data": {
      "text/plain": [
       "       Channel                                        Video Title  \\\n",
       "0  Eva zu Beck  Why Pakistan Can Become the #1 Travel Destinat...   \n",
       "1  Eva zu Beck  Why Pakistan Can Become the #1 Travel Destinat...   \n",
       "2  Eva zu Beck  Why Pakistan Can Become the #1 Travel Destinat...   \n",
       "3  Eva zu Beck  Why Pakistan Can Become the #1 Travel Destinat...   \n",
       "4  Eva zu Beck  Why Pakistan Can Become the #1 Travel Destinat...   \n",
       "\n",
       "                                   Video Description     Video ID  \\\n",
       "0  This isn't my typical video. Yesterday, I had ...  AeSadjRblyM   \n",
       "1  This isn't my typical video. Yesterday, I had ...  AeSadjRblyM   \n",
       "2  This isn't my typical video. Yesterday, I had ...  AeSadjRblyM   \n",
       "3  This isn't my typical video. Yesterday, I had ...  AeSadjRblyM   \n",
       "4  This isn't my typical video. Yesterday, I had ...  AeSadjRblyM   \n",
       "\n",
       "                                             Comment  \\\n",
       "0  Thank you everyone for your wonderful outpouri...   \n",
       "1  Thank you everyone for your wonderful outpouri...   \n",
       "2  We share your vision Eva. Thanks for sharing i...   \n",
       "3  Thank you everyone for your wonderful outpouri...   \n",
       "4  We share your vision Eva. Thanks for sharing i...   \n",
       "\n",
       "                   Comment iD  Replies  Likes  \n",
       "0  Ugwm5i5wTuGH8023nIt4AaABAg      475   5037  \n",
       "1  Ugwm5i5wTuGH8023nIt4AaABAg      475   5037  \n",
       "2  Ugyk-49uVzAz23hlfLR4AaABAg       17    841  \n",
       "3  Ugwm5i5wTuGH8023nIt4AaABAg      475   5037  \n",
       "4  Ugyk-49uVzAz23hlfLR4AaABAg       17    841  "
      ],
      "text/html": "<div>\n<style scoped>\n    .dataframe tbody tr th:only-of-type {\n        vertical-align: middle;\n    }\n\n    .dataframe tbody tr th {\n        vertical-align: top;\n    }\n\n    .dataframe thead th {\n        text-align: right;\n    }\n</style>\n<table border=\"1\" class=\"dataframe\">\n  <thead>\n    <tr style=\"text-align: right;\">\n      <th></th>\n      <th>Channel</th>\n      <th>Video Title</th>\n      <th>Video Description</th>\n      <th>Video ID</th>\n      <th>Comment</th>\n      <th>Comment iD</th>\n      <th>Replies</th>\n      <th>Likes</th>\n    </tr>\n  </thead>\n  <tbody>\n    <tr>\n      <th>0</th>\n      <td>Eva zu Beck</td>\n      <td>Why Pakistan Can Become the #1 Travel Destinat...</td>\n      <td>This isn't my typical video. Yesterday, I had ...</td>\n      <td>AeSadjRblyM</td>\n      <td>Thank you everyone for your wonderful outpouri...</td>\n      <td>Ugwm5i5wTuGH8023nIt4AaABAg</td>\n      <td>475</td>\n      <td>5037</td>\n    </tr>\n    <tr>\n      <th>1</th>\n      <td>Eva zu Beck</td>\n      <td>Why Pakistan Can Become the #1 Travel Destinat...</td>\n      <td>This isn't my typical video. Yesterday, I had ...</td>\n      <td>AeSadjRblyM</td>\n      <td>Thank you everyone for your wonderful outpouri...</td>\n      <td>Ugwm5i5wTuGH8023nIt4AaABAg</td>\n      <td>475</td>\n      <td>5037</td>\n    </tr>\n    <tr>\n      <th>2</th>\n      <td>Eva zu Beck</td>\n      <td>Why Pakistan Can Become the #1 Travel Destinat...</td>\n      <td>This isn't my typical video. Yesterday, I had ...</td>\n      <td>AeSadjRblyM</td>\n      <td>We share your vision Eva. Thanks for sharing i...</td>\n      <td>Ugyk-49uVzAz23hlfLR4AaABAg</td>\n      <td>17</td>\n      <td>841</td>\n    </tr>\n    <tr>\n      <th>3</th>\n      <td>Eva zu Beck</td>\n      <td>Why Pakistan Can Become the #1 Travel Destinat...</td>\n      <td>This isn't my typical video. Yesterday, I had ...</td>\n      <td>AeSadjRblyM</td>\n      <td>Thank you everyone for your wonderful outpouri...</td>\n      <td>Ugwm5i5wTuGH8023nIt4AaABAg</td>\n      <td>475</td>\n      <td>5037</td>\n    </tr>\n    <tr>\n      <th>4</th>\n      <td>Eva zu Beck</td>\n      <td>Why Pakistan Can Become the #1 Travel Destinat...</td>\n      <td>This isn't my typical video. Yesterday, I had ...</td>\n      <td>AeSadjRblyM</td>\n      <td>We share your vision Eva. Thanks for sharing i...</td>\n      <td>Ugyk-49uVzAz23hlfLR4AaABAg</td>\n      <td>17</td>\n      <td>841</td>\n    </tr>\n  </tbody>\n</table>\n</div>"
     },
     "metadata": {},
     "execution_count": 11
    }
   ],
   "source": [
    "output_df.head()"
   ]
  },
  {
   "cell_type": "code",
   "execution_count": 12,
   "metadata": {},
   "outputs": [
    {
     "output_type": "execute_result",
     "data": {
      "text/plain": [
       "1999040"
      ]
     },
     "metadata": {},
     "execution_count": 12
    }
   ],
   "source": [
    "duplicates = output_df[output_df.duplicated('Comment')]\n",
    "duplicates.shape[0]"
   ]
  },
  {
   "cell_type": "code",
   "execution_count": 13,
   "metadata": {},
   "outputs": [
    {
     "output_type": "execute_result",
     "data": {
      "text/plain": [
       "1960"
      ]
     },
     "metadata": {},
     "execution_count": 13
    }
   ],
   "source": [
    "output_df.shape[0] - duplicates.shape[0]"
   ]
  },
  {
   "cell_type": "code",
   "execution_count": 14,
   "metadata": {},
   "outputs": [],
   "source": [
    "unique_df = output_df.drop_duplicates(subset = ['Comment'])"
   ]
  },
  {
   "cell_type": "code",
   "execution_count": 15,
   "metadata": {},
   "outputs": [
    {
     "output_type": "execute_result",
     "data": {
      "text/plain": [
       "(1960, 8)"
      ]
     },
     "metadata": {},
     "execution_count": 15
    }
   ],
   "source": [
    "unique_df.shape"
   ]
  },
  {
   "cell_type": "code",
   "execution_count": 16,
   "metadata": {},
   "outputs": [],
   "source": [
    "unique_df.to_csv(csv_file_name, index = False)"
   ]
  }
 ]
}