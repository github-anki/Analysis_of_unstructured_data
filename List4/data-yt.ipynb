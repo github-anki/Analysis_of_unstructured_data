{
 "metadata": {
  "language_info": {
   "codemirror_mode": {
    "name": "ipython",
    "version": 3
   },
   "file_extension": ".py",
   "mimetype": "text/x-python",
   "name": "python",
   "nbconvert_exporter": "python",
   "pygments_lexer": "ipython3",
   "version": "3.6.7-final"
  },
  "orig_nbformat": 2,
  "kernelspec": {
   "name": "python36764bit40455a7f67b2417d8fc3daf7352f4c1a",
   "display_name": "Python 3.6.7 64-bit",
   "language": "python"
  }
 },
 "nbformat": 4,
 "nbformat_minor": 2,
 "cells": [
  {
   "source": [
    "# Downloading data about the channel & videos\n",
    "## Analysis of Unstructured Data\n",
    "### Anna Szymanek 230042"
   ],
   "cell_type": "markdown",
   "metadata": {}
  },
  {
   "cell_type": "code",
   "execution_count": 1,
   "metadata": {},
   "outputs": [],
   "source": [
    "from googleapiclient.discovery import build\n",
    "import pandas as pd"
   ]
  },
  {
   "cell_type": "code",
   "execution_count": 2,
   "metadata": {},
   "outputs": [],
   "source": [
    "channel_name = 'Eva zu Beck'\n",
    "csv_file_name = 'EvazuBeck_data.csv'"
   ]
  },
  {
   "cell_type": "code",
   "execution_count": 3,
   "metadata": {},
   "outputs": [],
   "source": [
    "youTubeApiKey = 'myApiKey'\n",
    "youtube = build('youtube', 'v3', developerKey = youTubeApiKey)"
   ]
  },
  {
   "cell_type": "code",
   "execution_count": 4,
   "metadata": {},
   "outputs": [],
   "source": [
    "snippets = youtube.search().list(part = 'snippet', type = 'channel', q = channel_name).execute()"
   ]
  },
  {
   "cell_type": "code",
   "execution_count": 5,
   "metadata": {},
   "outputs": [
    {
     "output_type": "stream",
     "name": "stdout",
     "text": [
      "Eva zu Beck channel id is UCDTINI9skkeZNY2ZXnBqIkQ\n"
     ]
    }
   ],
   "source": [
    "channelId = snippets['items'][0]['snippet']['channelId']\n",
    "print(channel_name, 'channel id is', channelId)"
   ]
  },
  {
   "cell_type": "code",
   "execution_count": 6,
   "metadata": {},
   "outputs": [],
   "source": [
    "stats = youtube.channels().list(part='statistics', id = channelId).execute()\n"
   ]
  },
  {
   "cell_type": "code",
   "execution_count": 7,
   "metadata": {},
   "outputs": [
    {
     "output_type": "execute_result",
     "data": {
      "text/plain": [
       "[{'kind': 'youtube#channel',\n",
       "  'etag': 'L86jpcDy63XHhwXKR3YdYTnOkG8',\n",
       "  'id': 'UCDTINI9skkeZNY2ZXnBqIkQ',\n",
       "  'statistics': {'viewCount': '45725046',\n",
       "   'subscriberCount': '854000',\n",
       "   'hiddenSubscriberCount': False,\n",
       "   'videoCount': '114'}}]"
      ]
     },
     "metadata": {},
     "execution_count": 7
    }
   ],
   "source": [
    "stats['items']"
   ]
  },
  {
   "cell_type": "code",
   "execution_count": 8,
   "metadata": {},
   "outputs": [],
   "source": [
    "content = youtube.channels().list(id = channelId, part = 'contentDetails').execute()"
   ]
  },
  {
   "cell_type": "code",
   "execution_count": 9,
   "metadata": {},
   "outputs": [
    {
     "output_type": "execute_result",
     "data": {
      "text/plain": [
       "[{'kind': 'youtube#channel',\n",
       "  'etag': 'GgtKBzllpA5hQ2pD58Vdk8vC5KU',\n",
       "  'id': 'UCDTINI9skkeZNY2ZXnBqIkQ',\n",
       "  'contentDetails': {'relatedPlaylists': {'likes': '',\n",
       "    'favorites': '',\n",
       "    'uploads': 'UUDTINI9skkeZNY2ZXnBqIkQ'}}}]"
      ]
     },
     "metadata": {},
     "execution_count": 9
    }
   ],
   "source": [
    "content['items']"
   ]
  },
  {
   "cell_type": "code",
   "execution_count": 10,
   "metadata": {},
   "outputs": [],
   "source": [
    "UploadId = content ['items'][0]['contentDetails']['relatedPlaylists']['uploads']"
   ]
  },
  {
   "cell_type": "code",
   "execution_count": 11,
   "metadata": {},
   "outputs": [],
   "source": [
    "allVideos = []\n",
    "nextPage_token = None\n",
    "res = youtube.playlistItems().list(playlistId = UploadId, maxResults = 50, part = 'snippet', pageToken = nextPage_token).execute()"
   ]
  },
  {
   "cell_type": "code",
   "execution_count": 12,
   "metadata": {},
   "outputs": [],
   "source": [
    "while 1:\n",
    "    res = youtube.playlistItems().list(playlistId = UploadId, maxResults = 50, part = 'snippet', pageToken = nextPage_token).execute()\n",
    "    allVideos += res['items']\n",
    "    nextPage_token = res.get('nextPageToken')\n",
    "    if nextPage_token is None:\n",
    "        break"
   ]
  },
  {
   "cell_type": "code",
   "execution_count": 15,
   "metadata": {},
   "outputs": [
    {
     "output_type": "stream",
     "name": "stdout",
     "text": [
      "114\n"
     ]
    }
   ],
   "source": [
    "video_ids = list(map(lambda x: x['snippet']['resourceId']['videoId'], allVideos))\n",
    "print(len(video_ids))"
   ]
  },
  {
   "cell_type": "code",
   "execution_count": 16,
   "metadata": {},
   "outputs": [
    {
     "output_type": "stream",
     "name": "stdout",
     "text": [
      "114\n"
     ]
    }
   ],
   "source": [
    "stats = []\n",
    "for i in range (0,len(video_ids),40):\n",
    "    res = youtube.videos().list(id = ','.join(video_ids[i:i+40]), part = 'statistics').execute()\n",
    "    stats += res['items']"
   ]
  },
  {
   "cell_type": "code",
   "execution_count": 17,
   "metadata": {},
   "outputs": [],
   "source": [
    "titleVD = []\n",
    "liked = []\n",
    "disliked = []\n",
    "views = []\n",
    "comment = []\n",
    "videoid = []\n",
    "published_date = []\n",
    "video_description = []\n"
   ]
  },
  {
   "cell_type": "code",
   "execution_count": 18,
   "metadata": {},
   "outputs": [],
   "source": [
    "for i in range(0,len(video_ids)):\n",
    "    videoid.append((allVideos[i])['snippet']['resourceId']['videoId'])\n",
    "    titleVD.append((allVideos[i])['snippet']['title'])\n",
    "    published_date.append((allVideos[i])['snippet']['publishedAt'])\n",
    "    video_description.append((allVideos[i])['snippet']['description'])\n",
    "    liked.append(int((stats[i])['statistics']['likeCount']))\n",
    "    disliked.append(int((stats[i])['statistics']['dislikeCount']))\n",
    "    views.append(int((stats[i])['statistics']['viewCount']))\n",
    "    comment.append(int((stats[i])['statistics']['commentCount']))"
   ]
  },
  {
   "cell_type": "code",
   "execution_count": 20,
   "metadata": {},
   "outputs": [
    {
     "output_type": "execute_result",
     "data": {
      "text/plain": [
       "       VideoID                                              Title  \\\n",
       "0  7KobMsd7jLw      Running a Marathon in Yemen (& BIG 2021 News)   \n",
       "1  MYDsjJivU8s  BEAUTIFUL Pakistani Wedding in the Mountains (...   \n",
       "2  gSKnFpQwKBA   I Became a Traditional Bride in Kosovo for 1 Day   \n",
       "3  MPb_Ybh9uAo              Inside an Albanian Village Guesthouse   \n",
       "4  R4xfHIZ6TQM                   Trekking 2 Days Alone in ALBANIA   \n",
       "\n",
       "                                    VideoDescription         PublishedDate  \\\n",
       "0  →  Join me for daily adventures on Instagram: ...  2021-01-16T08:54:47Z   \n",
       "1  →  Join me for daily adventures on Instagram: ...  2021-01-03T11:32:14Z   \n",
       "2  →  Join me for daily adventures on Instagram: ...  2020-12-27T08:29:44Z   \n",
       "3  →  Join me for daily adventures on Instagram: ...  2020-12-20T15:29:38Z   \n",
       "4  →  Join me for daily adventures on Instagram: ...  2020-12-13T13:22:05Z   \n",
       "\n",
       "   Likes  Disliked    Views  Comment  \n",
       "0   5784        96   100029      844  \n",
       "1  32350       929  1146101     4536  \n",
       "2   6385       103   148132     1091  \n",
       "3  12921       438   577260     2011  \n",
       "4  13654       149   306423     1948  "
      ],
      "text/html": "<div>\n<style scoped>\n    .dataframe tbody tr th:only-of-type {\n        vertical-align: middle;\n    }\n\n    .dataframe tbody tr th {\n        vertical-align: top;\n    }\n\n    .dataframe thead th {\n        text-align: right;\n    }\n</style>\n<table border=\"1\" class=\"dataframe\">\n  <thead>\n    <tr style=\"text-align: right;\">\n      <th></th>\n      <th>VideoID</th>\n      <th>Title</th>\n      <th>VideoDescription</th>\n      <th>PublishedDate</th>\n      <th>Likes</th>\n      <th>Disliked</th>\n      <th>Views</th>\n      <th>Comment</th>\n    </tr>\n  </thead>\n  <tbody>\n    <tr>\n      <th>0</th>\n      <td>7KobMsd7jLw</td>\n      <td>Running a Marathon in Yemen (&amp; BIG 2021 News)</td>\n      <td>→  Join me for daily adventures on Instagram: ...</td>\n      <td>2021-01-16T08:54:47Z</td>\n      <td>5784</td>\n      <td>96</td>\n      <td>100029</td>\n      <td>844</td>\n    </tr>\n    <tr>\n      <th>1</th>\n      <td>MYDsjJivU8s</td>\n      <td>BEAUTIFUL Pakistani Wedding in the Mountains (...</td>\n      <td>→  Join me for daily adventures on Instagram: ...</td>\n      <td>2021-01-03T11:32:14Z</td>\n      <td>32350</td>\n      <td>929</td>\n      <td>1146101</td>\n      <td>4536</td>\n    </tr>\n    <tr>\n      <th>2</th>\n      <td>gSKnFpQwKBA</td>\n      <td>I Became a Traditional Bride in Kosovo for 1 Day</td>\n      <td>→  Join me for daily adventures on Instagram: ...</td>\n      <td>2020-12-27T08:29:44Z</td>\n      <td>6385</td>\n      <td>103</td>\n      <td>148132</td>\n      <td>1091</td>\n    </tr>\n    <tr>\n      <th>3</th>\n      <td>MPb_Ybh9uAo</td>\n      <td>Inside an Albanian Village Guesthouse</td>\n      <td>→  Join me for daily adventures on Instagram: ...</td>\n      <td>2020-12-20T15:29:38Z</td>\n      <td>12921</td>\n      <td>438</td>\n      <td>577260</td>\n      <td>2011</td>\n    </tr>\n    <tr>\n      <th>4</th>\n      <td>R4xfHIZ6TQM</td>\n      <td>Trekking 2 Days Alone in ALBANIA</td>\n      <td>→  Join me for daily adventures on Instagram: ...</td>\n      <td>2020-12-13T13:22:05Z</td>\n      <td>13654</td>\n      <td>149</td>\n      <td>306423</td>\n      <td>1948</td>\n    </tr>\n  </tbody>\n</table>\n</div>"
     },
     "metadata": {},
     "execution_count": 20
    }
   ],
   "source": [
    "df = pd.DataFrame({'VideoID':videoid, 'Title':titleVD, 'VideoDescription':video_description, 'PublishedDate':published_date,  'Likes':liked, 'Disliked':disliked, 'Views':views, 'Comment':comment})\n",
    "df.head()"
   ]
  },
  {
   "cell_type": "code",
   "execution_count": 22,
   "metadata": {},
   "outputs": [],
   "source": [
    "df.to_csv(csv_file_name, index = False)"
   ]
  }
 ]
}